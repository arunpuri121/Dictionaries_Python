{
 "cells": [
  {
   "cell_type": "code",
   "execution_count": 1,
   "id": "02159ef5",
   "metadata": {},
   "outputs": [
    {
     "data": {
      "text/plain": [
       "{'Name': 'Arun', 'Age': 25, 'Salary': 30000, 'Company': 'TCS'}"
      ]
     },
     "execution_count": 1,
     "metadata": {},
     "output_type": "execute_result"
    }
   ],
   "source": [
    "Employee={\"Name\":\"Arun\",\n",
    "         \"Age\":25,\n",
    "         \"Salary\":30000,\n",
    "         \"Company\":\"TCS\"}\n",
    "Employee"
   ]
  },
  {
   "cell_type": "code",
   "execution_count": 2,
   "id": "6c8a87e5",
   "metadata": {},
   "outputs": [
    {
     "data": {
      "text/plain": [
       "dict"
      ]
     },
     "execution_count": 2,
     "metadata": {},
     "output_type": "execute_result"
    }
   ],
   "source": [
    "type(Employee)"
   ]
  },
  {
   "cell_type": "markdown",
   "id": "6ca5929b",
   "metadata": {},
   "source": [
    "# disctionary has key and value pair data structure"
   ]
  },
  {
   "cell_type": "code",
   "execution_count": 5,
   "id": "ff8df783",
   "metadata": {},
   "outputs": [
    {
     "data": {
      "text/plain": [
       "'Arun'"
      ]
     },
     "execution_count": 5,
     "metadata": {},
     "output_type": "execute_result"
    }
   ],
   "source": [
    "Employee[\"Name\"]"
   ]
  },
  {
   "cell_type": "code",
   "execution_count": 6,
   "id": "aee5d74b",
   "metadata": {},
   "outputs": [
    {
     "data": {
      "text/plain": [
       "'TCS'"
      ]
     },
     "execution_count": 6,
     "metadata": {},
     "output_type": "execute_result"
    }
   ],
   "source": [
    "Employee[\"Company\"]"
   ]
  },
  {
   "cell_type": "markdown",
   "id": "ee72be41",
   "metadata": {},
   "source": [
    "# To Access the value in a dictionary we can get by using the key but the vise versa is not possible"
   ]
  },
  {
   "cell_type": "code",
   "execution_count": 8,
   "id": "25e8a60b",
   "metadata": {},
   "outputs": [
    {
     "data": {
      "text/plain": [
       "{'Age': 25, 'Salary': 30000, 'Company': 'TCS'}"
      ]
     },
     "execution_count": 8,
     "metadata": {},
     "output_type": "execute_result"
    }
   ],
   "source": [
    "del Employee[\"Name\"]\n",
    "Employee"
   ]
  },
  {
   "cell_type": "code",
   "execution_count": 9,
   "id": "4bf17cb9",
   "metadata": {},
   "outputs": [
    {
     "data": {
      "text/plain": [
       "{'Age': 25, 'Salary': 30000, 'Company': 'TCS', 'Name': 'Arun'}"
      ]
     },
     "execution_count": 9,
     "metadata": {},
     "output_type": "execute_result"
    }
   ],
   "source": [
    "Employee[\"Name\"] = \"Arun\"\n",
    "Employee"
   ]
  },
  {
   "cell_type": "markdown",
   "id": "6559b1dd",
   "metadata": {},
   "source": [
    "# Dictionaries are mutabale so we can change it with keys after they are created"
   ]
  },
  {
   "cell_type": "code",
   "execution_count": null,
   "id": "04f8b70c",
   "metadata": {},
   "outputs": [],
   "source": []
  }
 ],
 "metadata": {
  "kernelspec": {
   "display_name": "Python 3 (ipykernel)",
   "language": "python",
   "name": "python3"
  },
  "language_info": {
   "codemirror_mode": {
    "name": "ipython",
    "version": 3
   },
   "file_extension": ".py",
   "mimetype": "text/x-python",
   "name": "python",
   "nbconvert_exporter": "python",
   "pygments_lexer": "ipython3",
   "version": "3.11.5"
  }
 },
 "nbformat": 4,
 "nbformat_minor": 5
}
